{
 "cells": [
  {
   "cell_type": "code",
   "execution_count": 1,
   "metadata": {},
   "outputs": [
    {
     "name": "stdout",
     "output_type": "stream",
     "text": [
      "Dictionary Plaintext frequencies calculated\n"
     ]
    }
   ],
   "source": [
    "# Calculate Plaintext frequencies from dictionary\n",
    "plain_freqs = []\n",
    "\n",
    "def calc_freq(input_str):\n",
    "    freq=[0]*27\n",
    "    for ch in input_str:\n",
    "        if ch == ' ': freq[0] += 1\n",
    "        else: freq[ord(ch) - 96] += 1\n",
    "    return freq\n",
    "\n",
    "# with open('plaintext_dictionary_test1.txt', 'r') as f:\n",
    "with open('Dict1.txt', 'r') as f:\n",
    "    for line in f.readlines():\n",
    "        if len(line) < 30: continue\n",
    "        #perform frequency analysis\n",
    "        freq = calc_freq(line.strip())\n",
    "        plain_freqs.append({\n",
    "            'text': line.strip(),\n",
    "            'freq': freq,\n",
    "            'freq_s': sorted(freq)\n",
    "        })\n",
    "print('Dictionary Plaintext frequencies calculated')"
   ]
  },
  {
   "cell_type": "code",
   "execution_count": 2,
   "metadata": {},
   "outputs": [
    {
     "data": {
      "image/png": "[encoded data removed]",
      "text/plain": [
       "<Figure size 432x288 with 1 Axes>"
      ]
     },
     "metadata": {
      "needs_background": "light"
     },
     "output_type": "display_data"
    }
   ],
   "source": [
    "# Plot frequency distributions of plaintexts\n",
    "\n",
    "import matplotlib.pyplot as plt\n",
    "\n",
    "for ind in plain_freqs:\n",
    "    plt.plot(ind['freq_s'])\n",
    "\n",
    "plt.show()"
   ]
  },
  {
   "cell_type": "code",
   "execution_count": 3,
   "metadata": {},
   "outputs": [],
   "source": [
    "# Convert character to index in i_arr\n",
    "def ind(character):\n",
    "    if character == ' ': return 0\n",
    "    else: return ord(character) - 96\n",
    "\n",
    "i_arr = [i for i in range(97,123)]\n",
    "i_arr.insert(0,32)"
   ]
  },
  {
   "cell_type": "code",
   "execution_count": 4,
   "metadata": {},
   "outputs": [
    {
     "name": "stdout",
     "output_type": "stream",
     "text": [
      "Generated 5 random keys for each plaintext\n"
     ]
    }
   ],
   "source": [
    "import random\n",
    "\n",
    "keyset=[]\n",
    "\n",
    "# Generate random keys\n",
    "for plain in range(len(plain_freqs)):\n",
    "    key=[]\n",
    "    for i in range(5):\n",
    "        key.append(random.sample(i_arr, k=len(i_arr)))\n",
    "    keyset.append(key)\n",
    "print('Generated 5 random keys for each plaintext')"
   ]
  },
  {
   "cell_type": "code",
   "execution_count": 5,
   "metadata": {},
   "outputs": [
    {
     "name": "stdout",
     "output_type": "stream",
     "text": [
      "Ciphertexts computed.\n"
     ]
    }
   ],
   "source": [
    "# Generate 5 sets of ciphertext for each plaintext, with different keys and noise levels\n",
    "prob_of_random_ciphertext = [0.05, 0.1, 0.3, 0.5, 0.75]\n",
    "cipherset=[]\n",
    "\n",
    "for plain in range(len(plain_freqs)):\n",
    "    ciphers=[]\n",
    "    # print('******************\\nPlain Text:\\t', plain_freqs[plain]['text'])\n",
    "    # print('\\nCipher Texts:')\n",
    "    for i in range(5):\n",
    "        c=[]\n",
    "        rprob = prob_of_random_ciphertext[i]\n",
    "        #calculate ciphertext\n",
    "        for ch in plain_freqs[plain]['text']:\n",
    "            #add noise according to probability factor\n",
    "            while random.random() <= rprob:\n",
    "                c.append(chr(random.sample(i_arr, k=1)[0]))\n",
    "            #add msg char\n",
    "            c.append(chr(keyset[plain][i][ind(ch)]))\n",
    "        ciphers.append(''.join(c))\n",
    "        # print('\\n', rprob, ':\\t', ciphers[i])\n",
    "    cipherset.append(ciphers)\n",
    "print('Ciphertexts computed.')"
   ]
  },
  {
   "cell_type": "code",
   "execution_count": 6,
   "metadata": {},
   "outputs": [
    {
     "name": "stdout",
     "output_type": "stream",
     "text": [
      "*******\n",
      "For plaintext number 0\n",
      "For CT number  0\n",
      "Closest Matches: stat: 3 p: 0 multiplied: 3\n",
      "For CT number  1\n",
      "Closest Matches: stat: 3 p: 0 multiplied: 3\n",
      "For CT number  2\n",
      "Closest Matches: stat: 3 p: 4 multiplied: 4\n",
      "For CT number  3\n",
      "Closest Matches: stat: 3 p: 1 multiplied: 1\n",
      "For CT number  4\n",
      "Closest Matches: stat: 3 p: 1 multiplied: 1\n",
      "*******\n",
      "For plaintext number 1\n",
      "For CT number  0\n",
      "Closest Matches: stat: 3 p: 1 multiplied: 3\n",
      "For CT number  1\n",
      "Closest Matches: stat: 3 p: 1 multiplied: 3\n",
      "For CT number  2\n",
      "Closest Matches: stat: 3 p: 1 multiplied: 1\n",
      "For CT number  3\n",
      "Closest Matches: stat: 3 p: 1 multiplied: 1\n",
      "For CT number  4\n",
      "Closest Matches: stat: 3 p: 2 multiplied: 2\n",
      "*******\n",
      "For plaintext number 2\n",
      "For CT number  0\n",
      "Closest Matches: stat: 3 p: 2 multiplied: 3\n",
      "For CT number  1\n",
      "Closest Matches: stat: 3 p: 2 multiplied: 3\n",
      "For CT number  2\n",
      "Closest Matches: stat: 3 p: 2 multiplied: 2\n",
      "For CT number  3\n",
      "Closest Matches: stat: 3 p: 1 multiplied: 1\n",
      "For CT number  4\n",
      "Closest Matches: stat: 3 p: 1 multiplied: 1\n",
      "*******\n",
      "For plaintext number 3\n",
      "For CT number  0\n",
      "Closest Matches: stat: 4 p: 3 multiplied: 4\n",
      "For CT number  1\n",
      "Closest Matches: stat: 3 p: 1 multiplied: 3\n",
      "For CT number  2\n",
      "Closest Matches: stat: 3 p: 1 multiplied: 1\n",
      "For CT number  3\n",
      "Closest Matches: stat: 3 p: 1 multiplied: 1\n",
      "For CT number  4\n",
      "Closest Matches: stat: 3 p: 2 multiplied: 2\n",
      "*******\n",
      "For plaintext number 4\n",
      "For CT number  0\n",
      "Closest Matches: stat: 3 p: 4 multiplied: 3\n",
      "For CT number  1\n"
     ]
    }
   ],
   "source": [
    "# Calculate Pearson Chi-Squared Test values for ciphertexts against all plaintexts\n",
    "# https://en.wikipedia.org/wiki/Pearson%27s_chi-squared_test\n",
    "# https://stats.stackexchange.com/questions/289021/statistical-test-for-comparing-two-frequency-distributions-expressed-as-arrays\n",
    "# https://www.askpython.com/python/examples/chi-square-test\n",
    "\n",
    "from scipy.stats import chi2_contingency\n",
    "\n",
    "# chi_test_sets=[]\n",
    "\n",
    "stat_total=0\n",
    "p_total=0\n",
    "mult_total=0\n",
    "\n",
    "for ciphers in range(len(cipherset)):\n",
    "    # chi_test_set=[]\n",
    "    print('*******\\nFor plaintext number', ciphers)\n",
    "    for i in range(5): # Per ciphertext\n",
    "        ct = cipherset[ciphers][i]\n",
    "        chi_tests_stat=[]\n",
    "        chi_tests_p=[]\n",
    "        print('For CT number ', i)\n",
    "        fr_ct = calc_freq(ct)\n",
    "        fr_ct.sort()\n",
    "        #TODO: Truncate freq to remove zeroes & ensure stability\n",
    "        for plain in plain_freqs: # Calc chi_test val per plaintext\n",
    "            stat, p, dof, exp = chi2_contingency([fr_ct, plain['freq_s']])\n",
    "            # print(stat, p, dof, sep='\\t')\n",
    "            chi_tests_p.append(p)\n",
    "            chi_tests_stat.append(stat)\n",
    "        # Get most significant match\n",
    "        match_stat = chi_tests_stat.index(max(chi_tests_stat))\n",
    "        match_p = chi_tests_p.index(max(chi_tests_p))\n",
    "        test_mult = [stat*p for stat, p in zip(chi_tests_stat, chi_tests_p)]\n",
    "        match_mult = test_mult.index(max(test_mult))\n",
    "        stat_total = stat_total + 1 if match_stat == ciphers else stat_total\n",
    "        p_total = p_total + 1 if match_p == ciphers else p_total\n",
    "        mult_total = stat_total + 1 if match_stat == ciphers else stat_total\n",
    "        print('Closest Matches: stat:', match_stat, 'p:', match_p, 'multiplied:',match_mult)\n",
    "\n"
   ]
  },
  {
   "cell_type": "code",
   "execution_count": null,
   "metadata": {},
   "outputs": [],
   "source": []
  }
 ],
 "metadata": {
  "interpreter": {
   "hash": "31f2aee4e71d21fbe5cf8b01ff0e069b9275f58929596ceb00d14d90e3e16cd6"
  },
  "kernelspec": {
   "display_name": "Python 3.8.10 64-bit",
   "language": "python",
   "name": "python3"
  },
  "language_info": {
   "codemirror_mode": {
    "name": "ipython",
    "version": 3
   },
   "file_extension": ".py",
   "mimetype": "text/x-python",
   "name": "python",
   "nbconvert_exporter": "python",
   "pygments_lexer": "ipython3",
   "version": "3.8.10"
  },
  "orig_nbformat": 4
 },
 "nbformat": 4,
 "nbformat_minor": 2
}
